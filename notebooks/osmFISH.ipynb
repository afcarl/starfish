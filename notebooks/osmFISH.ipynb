{
 "cells": [
  {
   "cell_type": "markdown",
   "metadata": {},
   "source": [
    "## Loading the data into Starfish"
   ]
  },
  {
   "cell_type": "code",
   "execution_count": 11,
   "metadata": {},
   "outputs": [],
   "source": [
    "from starfish.io import Stack\n",
    "from starfish.image import ImageStack\n",
    "import os"
   ]
  },
  {
   "cell_type": "markdown",
   "metadata": {},
   "source": [
    "Below, you can grab your data in the current spec (v0.0.0). I've also converted and uploaded the other two fovs (002, 003). I wasn't sure waht genes your codebooks referred to, so they have bogus gene names. \n",
    "\n",
    "These data sets are each about 1gb, so they take some time to load."
   ]
  },
  {
   "cell_type": "code",
   "execution_count": null,
   "metadata": {},
   "outputs": [],
   "source": [
    "s = Stack.from_experiment_json('https://dmf0bdeheu4zf.cloudfront.net/20180608/osmFISH/fov_001/experiment.json')"
   ]
  },
  {
   "cell_type": "markdown",
   "metadata": {},
   "source": [
    "If you want to save them locally for faster iteration, load them once above, then write them locally with `s.write` and then load them up from the written object"
   ]
  },
  {
   "cell_type": "code",
   "execution_count": null,
   "metadata": {},
   "outputs": [],
   "source": [
    "# os.makedirs('osmFISH', exist_ok=True)\n",
    "# s.write('osmFISH')"
   ]
  },
  {
   "cell_type": "code",
   "execution_count": null,
   "metadata": {},
   "outputs": [],
   "source": [
    "# s = Stack.from_experiment_json(os.path.join('osmFISH/', 'experiment.json'))"
   ]
  },
  {
   "cell_type": "markdown",
   "metadata": {},
   "source": [
    "Below, we list a few of the modules (by category) that we think will be useful for analysis of osmFISH data"
   ]
  },
  {
   "cell_type": "markdown",
   "metadata": {},
   "source": [
    "## Filtering"
   ]
  },
  {
   "cell_type": "code",
   "execution_count": 3,
   "metadata": {},
   "outputs": [],
   "source": [
    "from starfish.pipeline.filter import Filter"
   ]
  },
  {
   "cell_type": "markdown",
   "metadata": {},
   "source": [
    "We've already implemented a gaussian high-pass filter."
   ]
  },
  {
   "cell_type": "code",
   "execution_count": 4,
   "metadata": {},
   "outputs": [
    {
     "name": "stdout",
     "output_type": "stream",
     "text": [
      "Help on class GaussianHighPass in module starfish.pipeline.filter.gaussian_high_pass:\n",
      "\n",
      "class GaussianHighPass(starfish.pipeline.filter._base.FilterAlgorithmBase)\n",
      " |  Method resolution order:\n",
      " |      GaussianHighPass\n",
      " |      starfish.pipeline.filter._base.FilterAlgorithmBase\n",
      " |      starfish.pipeline.algorithmbase.AlgorithmBase\n",
      " |      builtins.object\n",
      " |  \n",
      " |  Methods defined here:\n",
      " |  \n",
      " |  __init__(self, sigma, **kwargs) -> None\n",
      " |      Gaussian high pass filter\n",
      " |      \n",
      " |      Parameters\n",
      " |      ----------\n",
      " |      sigma : int (default = 1)\n",
      " |          standard deviation of gaussian kernel\n",
      " |  \n",
      " |  filter(self, stack:starfish.io.Stack) -> None\n",
      " |      Perform in-place filtering of an image stack and all contained aux images.\n",
      " |      \n",
      " |      Parameters\n",
      " |      ----------\n",
      " |      stack : starfish.Stack\n",
      " |          Stack to be filtered.\n",
      " |  \n",
      " |  ----------------------------------------------------------------------\n",
      " |  Class methods defined here:\n",
      " |  \n",
      " |  add_arguments(group_parser:argparse.ArgumentParser) -> None from builtins.type\n",
      " |      Adds the arguments for the algorithm.\n",
      " |  \n",
      " |  get_algorithm_name() -> str from builtins.type\n",
      " |      Returns the name of the algorithm.  This should be a valid python identifier, i.e.,\n",
      " |      https://docs.python.org/3/reference/lexical_analysis.html#identifiers\n",
      " |  \n",
      " |  ----------------------------------------------------------------------\n",
      " |  Static methods defined here:\n",
      " |  \n",
      " |  gaussian_high_pass(img:numpy.ndarray, sigma) -> numpy.ndarray\n",
      " |      Applies a gaussian high pass filter to an image\n",
      " |      \n",
      " |      Parameters\n",
      " |      ----------\n",
      " |      img : numpy.ndarray\n",
      " |          Image to filter\n",
      " |      sigma : Union[float, int]\n",
      " |          Standard deviation of gaussian kernel\n",
      " |      \n",
      " |      Returns\n",
      " |      -------\n",
      " |      numpy.ndarray :\n",
      " |          Filtered image, same shape as input\n",
      " |  \n",
      " |  ----------------------------------------------------------------------\n",
      " |  Data descriptors inherited from starfish.pipeline.algorithmbase.AlgorithmBase:\n",
      " |  \n",
      " |  __dict__\n",
      " |      dictionary for instance variables (if defined)\n",
      " |  \n",
      " |  __weakref__\n",
      " |      list of weak references to the object (if defined)\n",
      "\n"
     ]
    }
   ],
   "source": [
    "help(Filter.gaussian_high_pass)"
   ]
  },
  {
   "cell_type": "code",
   "execution_count": null,
   "metadata": {},
   "outputs": [],
   "source": [
    "# Not implemented, but needed for osmFISH\n",
    "# Filter.gaussian_laplace"
   ]
  },
  {
   "cell_type": "markdown",
   "metadata": {},
   "source": [
    "## Spot calling"
   ]
  },
  {
   "cell_type": "code",
   "execution_count": null,
   "metadata": {},
   "outputs": [],
   "source": [
    "from starfish.pipeline.features.spots.detector import SpotFinder\n",
    "\n",
    "# Not implemented, but needed for osmFISH:\n",
    "# SpotFinder.peak_local_max "
   ]
  },
  {
   "cell_type": "markdown",
   "metadata": {},
   "source": [
    "You can max project the data like this. I suggest using this function _inside_ your spot calling method. "
   ]
  },
  {
   "cell_type": "code",
   "execution_count": 12,
   "metadata": {},
   "outputs": [
    {
     "name": "stdout",
     "output_type": "stream",
     "text": [
      "Help on function max_proj in module starfish.image._stack:\n",
      "\n",
      "max_proj(self, *dims:starfish.constants.Indices) -> numpy.ndarray\n",
      "    return a max projection over one or more axis of the image tensor\n",
      "    \n",
      "    Parameters\n",
      "    ----------\n",
      "    dims : Indices\n",
      "        one or more axes to project over\n",
      "    \n",
      "    Returns\n",
      "    -------\n",
      "    numpy.ndarray :\n",
      "        max projection\n",
      "\n"
     ]
    }
   ],
   "source": [
    "help(s.ImageStack.max_proj)"
   ]
  },
  {
   "cell_type": "markdown",
   "metadata": {},
   "source": [
    "## Segmentation"
   ]
  },
  {
   "cell_type": "code",
   "execution_count": 1,
   "metadata": {},
   "outputs": [],
   "source": [
    "from starfish.pipeline.segmentation import Segmentation"
   ]
  },
  {
   "cell_type": "code",
   "execution_count": 2,
   "metadata": {},
   "outputs": [
    {
     "name": "stdout",
     "output_type": "stream",
     "text": [
      "Help on class Watershed in module starfish.pipeline.segmentation.watershed:\n",
      "\n",
      "class Watershed(starfish.pipeline.segmentation._base.SegmentationAlgorithmBase)\n",
      " |  Implements watershed segmentation.  TODO: (dganguli) FILL IN DETAILS HERE PLS.\n",
      " |  \n",
      " |  Method resolution order:\n",
      " |      Watershed\n",
      " |      starfish.pipeline.segmentation._base.SegmentationAlgorithmBase\n",
      " |      starfish.pipeline.algorithmbase.AlgorithmBase\n",
      " |      builtins.object\n",
      " |  \n",
      " |  Methods defined here:\n",
      " |  \n",
      " |  __init__(self, dapi_threshold, input_threshold, min_distance, **kwargs)\n",
      " |      Initialize self.  See help(type(self)) for accurate signature.\n",
      " |  \n",
      " |  segment(self, stack)\n",
      " |      Performs registration on the stack provided.\n",
      " |  \n",
      " |  ----------------------------------------------------------------------\n",
      " |  Class methods defined here:\n",
      " |  \n",
      " |  add_arguments(group_parser) from builtins.type\n",
      " |      Adds the arguments for the algorithm.\n",
      " |  \n",
      " |  get_algorithm_name() from builtins.type\n",
      " |      Returns the name of the algorithm.  This should be a valid python identifier, i.e.,\n",
      " |      https://docs.python.org/3/reference/lexical_analysis.html#identifiers\n",
      " |  \n",
      " |  ----------------------------------------------------------------------\n",
      " |  Data descriptors inherited from starfish.pipeline.algorithmbase.AlgorithmBase:\n",
      " |  \n",
      " |  __dict__\n",
      " |      dictionary for instance variables (if defined)\n",
      " |  \n",
      " |  __weakref__\n",
      " |      list of weak references to the object (if defined)\n",
      "\n"
     ]
    }
   ],
   "source": [
    "help(Segmentation.watershed)"
   ]
  }
 ],
 "metadata": {
  "kernelspec": {
   "display_name": "Python 3",
   "language": "python",
   "name": "python3"
  },
  "language_info": {
   "codemirror_mode": {
    "name": "ipython",
    "version": 3
   },
   "file_extension": ".py",
   "mimetype": "text/x-python",
   "name": "python",
   "nbconvert_exporter": "python",
   "pygments_lexer": "ipython3",
   "version": "3.6.5"
  }
 },
 "nbformat": 4,
 "nbformat_minor": 2
}
