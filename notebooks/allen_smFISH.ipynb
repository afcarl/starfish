{
 "cells": [
  {
   "cell_type": "markdown",
   "metadata": {},
   "source": [
    "# Reproduce Allen smFISH results with Starfish\n",
    "\n",
    "The `allen_smFISH.zip` file needed to follow along with this notebook can be downloaded [here]()\n",
    "\n",
    "This notebook walks through a work flow that reproduces the smFISH result for one field of view using the starfish package. \n",
    "It assumes that you have unzipped `allen_smFISH.zip` in the same directory as this notebook. Thus, you should see:\n",
    "\n",
    "raw/\n",
    "allen_smFISH.ipynb"
   ]
  },
  {
   "cell_type": "code",
   "execution_count": 1,
   "metadata": {},
   "outputs": [],
   "source": [
    "import os\n",
    "from starfish.io import Stack\n",
    "import numpy as np\n",
    "\n",
    "from starfish.pipeline.filter.clip import Clip\n",
    "from starfish.pipeline.filter.bandpass import Bandpass\n",
    "from starfish.pipeline.filter.gaussian_low_pass import GaussianLowPass"
   ]
  },
  {
   "cell_type": "code",
   "execution_count": 2,
   "metadata": {},
   "outputs": [],
   "source": [
    "%matplotlib inline\n",
    "from matplotlib import cm\n",
    "from matplotlib import pyplot as plt\n",
    "from mpl_toolkits.mplot3d.art3d import Poly3DCollection, Line3DCollection\n",
    "\n",
    "from scipy import ndimage as ndi\n",
    "from scipy import stats\n",
    "\n",
    "from skimage import (exposure, feature, filters, io, measure,\n",
    "                      morphology, restoration, segmentation, transform,\n",
    "                      util, img_as_float)"
   ]
  },
  {
   "cell_type": "code",
   "execution_count": 3,
   "metadata": {},
   "outputs": [],
   "source": [
    "# package this up same as before\n",
    "experiment_json = os.path.expanduser('~/google_drive/starfish/data/allen_smFISH/experiment.json')"
   ]
  },
  {
   "cell_type": "code",
   "execution_count": 4,
   "metadata": {},
   "outputs": [],
   "source": [
    "s = Stack()\n",
    "s.read(experiment_json)"
   ]
  },
  {
   "cell_type": "code",
   "execution_count": 5,
   "metadata": {},
   "outputs": [],
   "source": [
    "# The allen's data is uint, but starfish loads it as floats. Cast it to int here, which does not cause any loss of precision. \n",
    "s.image._data = s.image._data.astype(np.uint16)\n",
    "istack = s.image"
   ]
  },
  {
   "cell_type": "code",
   "execution_count": 6,
   "metadata": {},
   "outputs": [],
   "source": [
    "s_clip = Clip(p_min=10, p_max=100)\n",
    "s_clip.filter(s)"
   ]
  },
  {
   "cell_type": "code",
   "execution_count": 23,
   "metadata": {},
   "outputs": [],
   "source": [
    "s_bandpass = Bandpass(lshort=0.5, llong=7, threshold=None, truncate=4)\n",
    "s_bandpass.filter(s)"
   ]
  },
  {
   "cell_type": "code",
   "execution_count": 7,
   "metadata": {},
   "outputs": [],
   "source": [
    "from ipywidgets import interact\n",
    "from starfish.constants import Indices\n",
    "\n",
    "def vis_z_stack (Stack, h=0, c=0, cmap='gray', rescale=False, figsize=(10, 10)):\n",
    "    N = Stack.image.shape[Indices.Z]\n",
    "\n",
    "    data = Stack.image.get_slice({Indices.CH: c, Indices.HYB: h})[0]\n",
    "    if rescale:\n",
    "        print(\"Rescaling ...\")\n",
    "        vmin, vmax = stats.scoreatpercentile(data, (0.5, 99.5))\n",
    "        data = exposure.rescale_intensity(\n",
    "            data, \n",
    "            in_range=(vmin, vmax), \n",
    "            out_range=np.float32\n",
    "        ).astype(np.float32)\n",
    "\n",
    "    def show_plane(ax, plane, cmap=\"gray\", title=None):\n",
    "        ax.imshow(plane, cmap=cmap)\n",
    "        ax.set_xticks([])\n",
    "        ax.set_yticks([])\n",
    "\n",
    "        if title:\n",
    "            ax.set_title(title)\n",
    "    \n",
    "    @interact(plane=(0, N - 1))\n",
    "    def display_slice(plane=34):\n",
    "        fig, ax = plt.subplots(figsize=figsize)\n",
    "        show_plane(ax, data[plane], title=\"Plane {}\".format(plane), cmap=cmap)\n",
    "        plt.show()\n",
    "\n",
    "    return display_slice"
   ]
  },
  {
   "cell_type": "code",
   "execution_count": 19,
   "metadata": {},
   "outputs": [
    {
     "name": "stdout",
     "output_type": "stream",
     "text": [
      "Rescaling ...\n"
     ]
    },
    {
     "data": {
      "application/vnd.jupyter.widget-view+json": {
       "model_id": "82b9225e0dc34964a89e54cf324b2603",
       "version_major": 2,
       "version_minor": 0
      },
      "text/html": [
       "<p>Failed to display Jupyter Widget of type <code>interactive</code>.</p>\n",
       "<p>\n",
       "  If you're reading this message in the Jupyter Notebook or JupyterLab Notebook, it may mean\n",
       "  that the widgets JavaScript is still loading. If this message persists, it\n",
       "  likely means that the widgets JavaScript library is either not installed or\n",
       "  not enabled. See the <a href=\"https://ipywidgets.readthedocs.io/en/stable/user_install.html\">Jupyter\n",
       "  Widgets Documentation</a> for setup instructions.\n",
       "</p>\n",
       "<p>\n",
       "  If you're reading this message in another frontend (for example, a static\n",
       "  rendering on GitHub or <a href=\"https://nbviewer.jupyter.org/\">NBViewer</a>),\n",
       "  it may mean that your frontend doesn't currently support widgets.\n",
       "</p>\n"
      ],
      "text/plain": [
       "interactive(children=(IntSlider(value=33, description='plane', max=33), Output()), _dom_classes=('widget-interact',))"
      ]
     },
     "metadata": {},
     "output_type": "display_data"
    }
   ],
   "source": [
    "vis_z_stack(s, c=1, rescale=True);"
   ]
  },
  {
   "cell_type": "code",
   "execution_count": 10,
   "metadata": {},
   "outputs": [
    {
     "name": "stdout",
     "output_type": "stream",
     "text": [
      "Rescaling ...\n"
     ]
    },
    {
     "data": {
      "application/vnd.jupyter.widget-view+json": {
       "model_id": "fd05a0eb713e4c2b81f202c8cb3ad34c",
       "version_major": 2,
       "version_minor": 0
      },
      "text/html": [
       "<p>Failed to display Jupyter Widget of type <code>interactive</code>.</p>\n",
       "<p>\n",
       "  If you're reading this message in the Jupyter Notebook or JupyterLab Notebook, it may mean\n",
       "  that the widgets JavaScript is still loading. If this message persists, it\n",
       "  likely means that the widgets JavaScript library is either not installed or\n",
       "  not enabled. See the <a href=\"https://ipywidgets.readthedocs.io/en/stable/user_install.html\">Jupyter\n",
       "  Widgets Documentation</a> for setup instructions.\n",
       "</p>\n",
       "<p>\n",
       "  If you're reading this message in another frontend (for example, a static\n",
       "  rendering on GitHub or <a href=\"https://nbviewer.jupyter.org/\">NBViewer</a>),\n",
       "  it may mean that your frontend doesn't currently support widgets.\n",
       "</p>\n"
      ],
      "text/plain": [
       "interactive(children=(IntSlider(value=33, description='plane', max=33), Output()), _dom_classes=('widget-interact',))"
      ]
     },
     "metadata": {},
     "output_type": "display_data"
    }
   ],
   "source": [
    "vis_z_stack(s, c=2, rescale=True);"
   ]
  },
  {
   "cell_type": "markdown",
   "metadata": {},
   "source": [
    "Image processing function list:\n",
    "\n",
    "1. clip & floor (at 10th percentile)\n",
    "  1. `starfish.transform.threshold` or `.clip`\n",
    "  2. Also called _after_ bandpass. \n",
    "2. trackpy bandpass\n",
    "  1. `filters.bandpass`\n",
    "4. gaussian filter (over z) \n",
    "  1. `starfish.filters.gaussian`. The skimage function supports nd images, so we just need to adjust the object in starfish. \n",
    "5. call peak locations (trackpy locate)\n",
    "  1. `starfish.starfish.spots.crocker-grier` OR `starfish.starfish.spots.gaussian` (second class in this file)"
   ]
  },
  {
   "cell_type": "code",
   "execution_count": 1,
   "metadata": {},
   "outputs": [],
   "source": [
    "from trackpy import locate"
   ]
  },
  {
   "cell_type": "code",
   "execution_count": 2,
   "metadata": {},
   "outputs": [],
   "source": [
    "?locate"
   ]
  },
  {
   "cell_type": "code",
   "execution_count": 30,
   "metadata": {},
   "outputs": [
    {
     "ename": "KeyError",
     "evalue": "'data'",
     "output_type": "error",
     "traceback": [
      "\u001b[0;31m---------------------------------------------------------------------------\u001b[0m",
      "\u001b[0;31mKeyError\u001b[0m                                  Traceback (most recent call last)",
      "\u001b[0;32m<ipython-input-30-f7015ffe54df>\u001b[0m in \u001b[0;36m<module>\u001b[0;34m()\u001b[0m\n\u001b[1;32m      1\u001b[0m \u001b[0;31m# ok, so this does not work for singleton barcodes (barcode index should all be 1s)\u001b[0m\u001b[0;34m\u001b[0m\u001b[0;34m\u001b[0m\u001b[0m\n\u001b[0;32m----> 2\u001b[0;31m \u001b[0ms\u001b[0m\u001b[0;34m.\u001b[0m\u001b[0msqueeze\u001b[0m\u001b[0;34m(\u001b[0m\u001b[0mbit_map_flag\u001b[0m\u001b[0;34m=\u001b[0m\u001b[0;32mTrue\u001b[0m\u001b[0;34m)\u001b[0m\u001b[0;34m\u001b[0m\u001b[0m\n\u001b[0m\u001b[1;32m      3\u001b[0m \u001b[0ms\u001b[0m\u001b[0;34m.\u001b[0m\u001b[0msqueeze_map\u001b[0m\u001b[0;34m.\u001b[0m\u001b[0mhead\u001b[0m\u001b[0;34m(\u001b[0m\u001b[0;36m20\u001b[0m\u001b[0;34m)\u001b[0m\u001b[0;34m\u001b[0m\u001b[0m\n",
      "\u001b[0;32m~/projects/spacetx/starfish/starfish/io.py\u001b[0m in \u001b[0;36msqueeze\u001b[0;34m(self, bit_map_flag)\u001b[0m\n\u001b[1;32m    116\u001b[0m \u001b[0;34m\u001b[0m\u001b[0m\n\u001b[1;32m    117\u001b[0m         \u001b[0;32mif\u001b[0m \u001b[0mbit_map_flag\u001b[0m\u001b[0;34m:\u001b[0m\u001b[0;34m\u001b[0m\u001b[0m\n\u001b[0;32m--> 118\u001b[0;31m             \u001b[0mmp\u001b[0m \u001b[0;34m=\u001b[0m \u001b[0;34m[\u001b[0m\u001b[0;34m(\u001b[0m\u001b[0md\u001b[0m\u001b[0;34m[\u001b[0m\u001b[0mIndices\u001b[0m\u001b[0;34m.\u001b[0m\u001b[0mHYB\u001b[0m\u001b[0;34m]\u001b[0m\u001b[0;34m,\u001b[0m \u001b[0md\u001b[0m\u001b[0;34m[\u001b[0m\u001b[0mIndices\u001b[0m\u001b[0;34m.\u001b[0m\u001b[0mCH\u001b[0m\u001b[0;34m]\u001b[0m\u001b[0;34m,\u001b[0m \u001b[0md\u001b[0m\u001b[0;34m[\u001b[0m\u001b[0;34m'bit'\u001b[0m\u001b[0;34m]\u001b[0m\u001b[0;34m)\u001b[0m \u001b[0;32mfor\u001b[0m \u001b[0md\u001b[0m \u001b[0;32min\u001b[0m \u001b[0mself\u001b[0m\u001b[0;34m.\u001b[0m\u001b[0morg\u001b[0m\u001b[0;34m[\u001b[0m\u001b[0;34m'data'\u001b[0m\u001b[0;34m]\u001b[0m\u001b[0;34m]\u001b[0m\u001b[0;34m\u001b[0m\u001b[0m\n\u001b[0m\u001b[1;32m    119\u001b[0m             \u001b[0mmp\u001b[0m \u001b[0;34m=\u001b[0m \u001b[0mpd\u001b[0m\u001b[0;34m.\u001b[0m\u001b[0mDataFrame\u001b[0m\u001b[0;34m(\u001b[0m\u001b[0mmp\u001b[0m\u001b[0;34m,\u001b[0m \u001b[0mcolumns\u001b[0m\u001b[0;34m=\u001b[0m\u001b[0;34m[\u001b[0m\u001b[0mIndices\u001b[0m\u001b[0;34m.\u001b[0m\u001b[0mHYB\u001b[0m\u001b[0;34m,\u001b[0m \u001b[0mIndices\u001b[0m\u001b[0;34m.\u001b[0m\u001b[0mCH\u001b[0m\u001b[0;34m,\u001b[0m \u001b[0;34m'bit'\u001b[0m\u001b[0;34m]\u001b[0m\u001b[0;34m)\u001b[0m\u001b[0;34m\u001b[0m\u001b[0m\n\u001b[1;32m    120\u001b[0m             \u001b[0mself\u001b[0m\u001b[0;34m.\u001b[0m\u001b[0msqueeze_map\u001b[0m \u001b[0;34m=\u001b[0m \u001b[0mpd\u001b[0m\u001b[0;34m.\u001b[0m\u001b[0mmerge\u001b[0m\u001b[0;34m(\u001b[0m\u001b[0mself\u001b[0m\u001b[0;34m.\u001b[0m\u001b[0msqueeze_map\u001b[0m\u001b[0;34m,\u001b[0m \u001b[0mmp\u001b[0m\u001b[0;34m,\u001b[0m \u001b[0mon\u001b[0m\u001b[0;34m=\u001b[0m\u001b[0;34m[\u001b[0m\u001b[0mIndices\u001b[0m\u001b[0;34m.\u001b[0m\u001b[0mCH\u001b[0m\u001b[0;34m,\u001b[0m \u001b[0mIndices\u001b[0m\u001b[0;34m.\u001b[0m\u001b[0mHYB\u001b[0m\u001b[0;34m]\u001b[0m\u001b[0;34m,\u001b[0m \u001b[0mhow\u001b[0m\u001b[0;34m=\u001b[0m\u001b[0;34m'left'\u001b[0m\u001b[0;34m)\u001b[0m\u001b[0;34m\u001b[0m\u001b[0m\n",
      "\u001b[0;31mKeyError\u001b[0m: 'data'"
     ]
    }
   ],
   "source": [
    "# ok, so this does not work for singleton barcodes (barcode index should all be 1s)\n",
    "s.squeeze(bit_map_flag=True)\n",
    "s.squeeze_map.head(20)"
   ]
  },
  {
   "cell_type": "code",
   "execution_count": 18,
   "metadata": {},
   "outputs": [
    {
     "name": "stdout",
     "output_type": "stream",
     "text": [
      "1_1st_Cy3 5.TIF     1_2nd_Cy5.TIF       1_4th_Cy3 5.TIF     codebook.csv\r\n",
      "1_1st_Cy3.TIF       1_2nd_FITC.TIF      1_4th_Cy3.TIF       experiment.json\r\n",
      "1_1st_Cy5.TIF       1_3rd_Cy3 5.TIF     1_4th_Cy5.TIF       hybridization.json\r\n",
      "1_1st_FITC.TIF      1_3rd_Cy3.TIF       1_4th_FITC.TIF\r\n",
      "1_2nd_Cy3 5.TIF     1_3rd_Cy5.TIF       1_DO_Cy3.TIF\r\n",
      "1_2nd_Cy3.TIF       1_3rd_FITC.TIF      1_DO_DAPI.TIF\r\n"
     ]
    }
   ],
   "source": [
    "ls /Users/ajc/google_drive/starfish/data/ISS/fov_001/"
   ]
  },
  {
   "cell_type": "code",
   "execution_count": 25,
   "metadata": {},
   "outputs": [],
   "source": [
    " # get ISS data, see how that works\n",
    "s2 = Stack()\n",
    "s2.read(os.path.expanduser('/Users/ajc/google_drive/starfish/data/ISS/fov_001/experiment.json'))"
   ]
  },
  {
   "cell_type": "code",
   "execution_count": 31,
   "metadata": {},
   "outputs": [
    {
     "ename": "KeyError",
     "evalue": "'data'",
     "output_type": "error",
     "traceback": [
      "\u001b[0;31m---------------------------------------------------------------------------\u001b[0m",
      "\u001b[0;31mKeyError\u001b[0m                                  Traceback (most recent call last)",
      "\u001b[0;32m<ipython-input-31-1950373a4d6d>\u001b[0m in \u001b[0;36m<module>\u001b[0;34m()\u001b[0m\n\u001b[0;32m----> 1\u001b[0;31m \u001b[0ms\u001b[0m\u001b[0;34m.\u001b[0m\u001b[0msqueeze\u001b[0m\u001b[0;34m(\u001b[0m\u001b[0mbit_map_flag\u001b[0m\u001b[0;34m=\u001b[0m\u001b[0;32mTrue\u001b[0m\u001b[0;34m)\u001b[0m\u001b[0;34m\u001b[0m\u001b[0m\n\u001b[0m\u001b[1;32m      2\u001b[0m \u001b[0ms\u001b[0m\u001b[0;34m.\u001b[0m\u001b[0msqueeze_map\u001b[0m\u001b[0;34m.\u001b[0m\u001b[0mhead\u001b[0m\u001b[0;34m(\u001b[0m\u001b[0;36m20\u001b[0m\u001b[0;34m)\u001b[0m\u001b[0;34m\u001b[0m\u001b[0m\n",
      "\u001b[0;32m~/projects/spacetx/starfish/starfish/io.py\u001b[0m in \u001b[0;36msqueeze\u001b[0;34m(self, bit_map_flag)\u001b[0m\n\u001b[1;32m    116\u001b[0m \u001b[0;34m\u001b[0m\u001b[0m\n\u001b[1;32m    117\u001b[0m         \u001b[0;32mif\u001b[0m \u001b[0mbit_map_flag\u001b[0m\u001b[0;34m:\u001b[0m\u001b[0;34m\u001b[0m\u001b[0m\n\u001b[0;32m--> 118\u001b[0;31m             \u001b[0mmp\u001b[0m \u001b[0;34m=\u001b[0m \u001b[0;34m[\u001b[0m\u001b[0;34m(\u001b[0m\u001b[0md\u001b[0m\u001b[0;34m[\u001b[0m\u001b[0mIndices\u001b[0m\u001b[0;34m.\u001b[0m\u001b[0mHYB\u001b[0m\u001b[0;34m]\u001b[0m\u001b[0;34m,\u001b[0m \u001b[0md\u001b[0m\u001b[0;34m[\u001b[0m\u001b[0mIndices\u001b[0m\u001b[0;34m.\u001b[0m\u001b[0mCH\u001b[0m\u001b[0;34m]\u001b[0m\u001b[0;34m,\u001b[0m \u001b[0md\u001b[0m\u001b[0;34m[\u001b[0m\u001b[0;34m'bit'\u001b[0m\u001b[0;34m]\u001b[0m\u001b[0;34m)\u001b[0m \u001b[0;32mfor\u001b[0m \u001b[0md\u001b[0m \u001b[0;32min\u001b[0m \u001b[0mself\u001b[0m\u001b[0;34m.\u001b[0m\u001b[0morg\u001b[0m\u001b[0;34m[\u001b[0m\u001b[0;34m'data'\u001b[0m\u001b[0;34m]\u001b[0m\u001b[0;34m]\u001b[0m\u001b[0;34m\u001b[0m\u001b[0m\n\u001b[0m\u001b[1;32m    119\u001b[0m             \u001b[0mmp\u001b[0m \u001b[0;34m=\u001b[0m \u001b[0mpd\u001b[0m\u001b[0;34m.\u001b[0m\u001b[0mDataFrame\u001b[0m\u001b[0;34m(\u001b[0m\u001b[0mmp\u001b[0m\u001b[0;34m,\u001b[0m \u001b[0mcolumns\u001b[0m\u001b[0;34m=\u001b[0m\u001b[0;34m[\u001b[0m\u001b[0mIndices\u001b[0m\u001b[0;34m.\u001b[0m\u001b[0mHYB\u001b[0m\u001b[0;34m,\u001b[0m \u001b[0mIndices\u001b[0m\u001b[0;34m.\u001b[0m\u001b[0mCH\u001b[0m\u001b[0;34m,\u001b[0m \u001b[0;34m'bit'\u001b[0m\u001b[0;34m]\u001b[0m\u001b[0;34m)\u001b[0m\u001b[0;34m\u001b[0m\u001b[0m\n\u001b[1;32m    120\u001b[0m             \u001b[0mself\u001b[0m\u001b[0;34m.\u001b[0m\u001b[0msqueeze_map\u001b[0m \u001b[0;34m=\u001b[0m \u001b[0mpd\u001b[0m\u001b[0;34m.\u001b[0m\u001b[0mmerge\u001b[0m\u001b[0;34m(\u001b[0m\u001b[0mself\u001b[0m\u001b[0;34m.\u001b[0m\u001b[0msqueeze_map\u001b[0m\u001b[0;34m,\u001b[0m \u001b[0mmp\u001b[0m\u001b[0;34m,\u001b[0m \u001b[0mon\u001b[0m\u001b[0;34m=\u001b[0m\u001b[0;34m[\u001b[0m\u001b[0mIndices\u001b[0m\u001b[0;34m.\u001b[0m\u001b[0mCH\u001b[0m\u001b[0;34m,\u001b[0m \u001b[0mIndices\u001b[0m\u001b[0;34m.\u001b[0m\u001b[0mHYB\u001b[0m\u001b[0;34m]\u001b[0m\u001b[0;34m,\u001b[0m \u001b[0mhow\u001b[0m\u001b[0;34m=\u001b[0m\u001b[0;34m'left'\u001b[0m\u001b[0;34m)\u001b[0m\u001b[0;34m\u001b[0m\u001b[0m\n",
      "\u001b[0;31mKeyError\u001b[0m: 'data'"
     ]
    }
   ],
   "source": [
    "s.squeeze(bit_map_flag=True)\n",
    "s.squeeze_map.head(20)"
   ]
  },
  {
   "cell_type": "markdown",
   "metadata": {},
   "source": [
    "Goal: \n",
    "- Comprehensible format that is understandable to users. \n",
    "- Ideally can abstract \"features\" (spots **and** pixels)\n",
    "- Does not blow up memory\n",
    "- Plot features, selectable on the below information\n",
    "\n",
    "Things one might want to select a spot based on:\n",
    "- gene\n",
    "- channel\n",
    "- hybridization round\n",
    "- z section\n",
    "- cell\n",
    "\n",
    "To construct genes, we need to know codes. What are codes?\n",
    "- Ordered lists of hybridization rounds and channels\n",
    "- Merfish: 8 rounds, 2 channels (all hybs, all channels)\n",
    "- ISS: 4 rounds, 4 channels (all hybs, all channels)\n",
    "- smFISH: 1 round, 1 channel (all hybs, one channel)\n",
    "- CODEX: 1 round, 1 channel (one hyb, one channel)\n",
    "\n",
    "Required Data: \n",
    "\n",
    "1. Barcode mapping\n",
    "2. Num Hybs\n",
    "3. Num Channels\n",
    "\n",
    "What's a decoder?\n",
    "- A decoder is a mapping between (potentially multiple) hybs and channels to genes\n",
    "- A decoder must be able to map a function across channels (to decide which channel is active) for each hyb\n",
    "- Features are therefore tracked across hybs/channels\n",
    "- I need to figure out how MERFISH works again."
   ]
  },
  {
   "cell_type": "markdown",
   "metadata": {},
   "source": [
    "So: \n",
    "x, y, z, centroids "
   ]
  }
 ],
 "metadata": {
  "kernelspec": {
   "display_name": "Python 3",
   "language": "python",
   "name": "python3"
  },
  "language_info": {
   "codemirror_mode": {
    "name": "ipython",
    "version": 3
   },
   "file_extension": ".py",
   "mimetype": "text/x-python",
   "name": "python",
   "nbconvert_exporter": "python",
   "pygments_lexer": "ipython3",
   "version": "3.6.5"
  }
 },
 "nbformat": 4,
 "nbformat_minor": 2
}
