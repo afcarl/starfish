{
 "cells": [
  {
   "cell_type": "markdown",
   "metadata": {},
   "source": [
    "# Reproduce Allen smFISH results with Starfish\n",
    "\n",
    "The `allen_smFISH.zip` file needed to follow along with this notebook can be downloaded [here]()\n",
    "\n",
    "This notebook walks through a work flow that reproduces the smFISH result for one field of view using the starfish package. \n",
    "It assumes that you have unzipped `allen_smFISH.zip` in the same directory as this notebook. Thus, you should see:\n",
    "\n",
    "raw/\n",
    "allen_smFISH.ipynb"
   ]
  },
  {
   "cell_type": "code",
   "execution_count": 1,
   "metadata": {},
   "outputs": [],
   "source": [
    "import os\n",
    "from starfish.io import Stack\n",
    "import numpy as np\n",
    "\n",
    "from starfish.pipeline.filter.clip import Clip\n",
    "from starfish.pipeline.filter.bandpass import Bandpass\n",
    "from starfish.pipeline.filter.gaussian_low_pass import GaussianLowPass"
   ]
  },
  {
   "cell_type": "code",
   "execution_count": 2,
   "metadata": {},
   "outputs": [],
   "source": [
    "%matplotlib inline\n",
    "\n",
    "from scipy import ndimage as ndi\n",
    "from scipy import stats\n",
    "\n",
    "from skimage import (exposure, feature, filters, io, measure,\n",
    "                      morphology, restoration, segmentation, transform,\n",
    "                      util, img_as_float)"
   ]
  },
  {
   "cell_type": "code",
   "execution_count": 3,
   "metadata": {},
   "outputs": [],
   "source": [
    "# package this up same as before\n",
    "experiment_json = os.path.expanduser('~/google_drive/starfish/data/allen_smFISH/experiment.json')"
   ]
  },
  {
   "cell_type": "code",
   "execution_count": 4,
   "metadata": {},
   "outputs": [],
   "source": [
    "s = Stack()\n",
    "s.read(experiment_json)"
   ]
  },
  {
   "cell_type": "code",
   "execution_count": 5,
   "metadata": {},
   "outputs": [],
   "source": [
    "# The allen's data is uint, but starfish loads it as floats. Cast it to int here, which does not cause any loss of precision. \n",
    "s.image._data = s.image._data.astype(np.uint16)\n",
    "istack = s.image"
   ]
  },
  {
   "cell_type": "code",
   "execution_count": 6,
   "metadata": {},
   "outputs": [],
   "source": [
    "s_clip = Clip(p_min=10, p_max=100)\n",
    "s_clip.filter(s)"
   ]
  },
  {
   "cell_type": "code",
   "execution_count": 23,
   "metadata": {},
   "outputs": [],
   "source": [
    "s_bandpass = Bandpass(lshort=0.5, llong=7, threshold=None, truncate=4)\n",
    "s_bandpass.filter(s)"
   ]
  },
  {
   "cell_type": "code",
   "execution_count": null,
   "metadata": {},
   "outputs": [],
   "source": [
    "glp = Gauss"
   ]
  }
 ],
 "metadata": {
  "kernelspec": {
   "display_name": "Python 3",
   "language": "python",
   "name": "python3"
  },
  "language_info": {
   "codemirror_mode": {
    "name": "ipython",
    "version": 3
   },
   "file_extension": ".py",
   "mimetype": "text/x-python",
   "name": "python",
   "nbconvert_exporter": "python",
   "pygments_lexer": "ipython3",
   "version": "3.6.5"
  }
 },
 "nbformat": 4,
 "nbformat_minor": 2
}
